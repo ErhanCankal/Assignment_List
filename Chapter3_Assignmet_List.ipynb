{
 "cells": [
  {
   "cell_type": "code",
   "execution_count": 10,
   "id": "fbd5f680",
   "metadata": {},
   "outputs": [
    {
     "name": "stdout",
     "output_type": "stream",
     "text": [
      "[2, 12, 34, 37, 45, 54, 56, 66, 67, 76, 98]\n",
      "The sum of the lowest two numbers in the list: 14\n",
      "The sum of the highest two numbers in the list:174\n"
     ]
    }
   ],
   "source": [
    "#Assignment_List Question01\n",
    "my_list = [34, 56, 76, 45, 2, 12, 67, 98, 37, 54, 66]\n",
    "#Sort\n",
    "my_list.sort()\n",
    "print(my_list)\n",
    "#Take first two first elements \n",
    "#then take the last two elements\n",
    "a = my_list[:2]\n",
    "sum1=a[0]+a[1]\n",
    "b = my_list[::-1]\n",
    "sum2=b[0]+b[1]\n",
    "print('The sum of the lowest two numbers in the list: {}\\nThe sum of the highest two numbers in the list:{}'.format(sum1,sum2))"
   ]
  },
  {
   "cell_type": "code",
   "execution_count": 5,
   "id": "257833e8",
   "metadata": {},
   "outputs": [
    {
     "name": "stdout",
     "output_type": "stream",
     "text": [
      "99\n",
      "Total number of students with highest score is 1\n"
     ]
    }
   ],
   "source": [
    "#Assignment_List Question03\n",
    "max_score = scores[0]\n",
    "i=0\n",
    "for j in scores:\n",
    "   \n",
    "    if max_score<scores[i]:\n",
    "        max_score = scores(i)\n",
    "\n",
    "counter=0\n",
    "for j in scores:\n",
    "    if j == max_score:\n",
    "        print(j)\n",
    "        counter+=1\n",
    "print(\"Total number of students with highest score is\",counter)\n",
    "        \n"
   ]
  },
  {
   "cell_type": "code",
   "execution_count": 6,
   "id": "064365a8",
   "metadata": {},
   "outputs": [
    {
     "name": "stdout",
     "output_type": "stream",
     "text": [
      "1  Name: David Score: 99\n",
      "2  Name: Michael Score: 87\n",
      "3  Name: John Score: 78\n",
      "4  Name: James Score: 86\n",
      "5  Name: Greg Score: 68\n",
      "6  Name: Mark Score: 94\n",
      "7  Name: William Score: 76\n",
      "8  Name: Richard Score: 97\n",
      "9  Name: Thomas Score: 56\n",
      "10  Name: Steven Score: 98\n",
      "11  Name: Mary Score: 76\n",
      "12  Name: Susan Score: 87\n",
      "13  Name: Maria Score: 79\n",
      "14  Name: Karen Score: 90\n",
      "15  Name: Lisa Score: 73\n",
      "16  Name: Linda Score: 93\n",
      "17  Name: Donna Score: 82\n",
      "18  Name: Patricia Score: 69\n",
      "19  Name: Debra Score: 97\n",
      "20  Name: Eric Score: 98\n",
      "david\n",
      "99\n",
      "Total number of students with highest score is 1\n"
     ]
    }
   ],
   "source": [
    "#Assignment_List Question02\n",
    "names = [\"David\", \"Michael\", \"John\", \"James\", \"Greg\", \"Mark\", \"William\", \"Richard\", \"Thomas\", \"Steven\",   \"Mary\", \"Susan\", \"Maria\", \"Karen\", \"Lisa\", \"Linda\", \"Donna\", \"Patricia\", \"Debra\", \"Eric\"]\n",
    "scores = [99, 87, 78, 86, 68, 94, 76, 97, 56, 98, 76, 87, 79, 90, 73, 93, 82, 69, 97, 98]\n",
    "##Listing All\n",
    "i=0\n",
    "for j in names:\n",
    " \n",
    "    print(i+1,\" Name:\",names[i],\"Score:\",scores[i])\n",
    "    i+=1\n",
    "name_input=input()\n",
    "i=0\n",
    "for j in names:\n",
    "    if names[i]==name_input:\n",
    "        print(i+1,\" Name:\",names[i],\"Score:\",scores[i])\n",
    "    i+=1\n",
    "#Assignment_List Question03\n",
    "max_score = scores[0]\n",
    "i=0\n",
    "for j in scores:\n",
    "   \n",
    "    if max_score<scores[i]:\n",
    "        max_score = scores(i)\n",
    "\n",
    "counter=0\n",
    "for j in scores:\n",
    "    if j == max_score:\n",
    "        print(j)\n",
    "        counter+=1\n",
    "print(\"Total number of students with highest score is\",counter)\n"
   ]
  },
  {
   "cell_type": "code",
   "execution_count": 7,
   "id": "c93f4755",
   "metadata": {},
   "outputs": [
    {
     "name": "stdout",
     "output_type": "stream",
     "text": [
      "[['January', 31], ['February', 28], ['March', 31], ['April', 30], ['May', 31], ['June', 30], ['July', 31], ['August', 31], ['September', 30], ['October', 31], ['November', 30], ['December', 31]]\n"
     ]
    }
   ],
   "source": [
    "#Assignment_List Question04\n",
    "month_list=[[\"January\",31],[\"February\",28],[\"March\",31],[\"April\",30],[\"May\",31],[\"June\",30],[\"July\",31],[\"August\",31],[\"September\",30],[\"October\",31],[\"November\",30],[\"December\",31]]\n",
    "print(month_list)"
   ]
  },
  {
   "cell_type": "code",
   "execution_count": 8,
   "id": "cc4f4632",
   "metadata": {},
   "outputs": [
    {
     "name": "stdout",
     "output_type": "stream",
     "text": [
      "[['Winter', 'Jan', 31], ['Winter', 'Feb', 28], ['Spring', 'March', 31], ['Spring', 'April', 30], ['Spring', 'May', 31], ['Summer', 'June', 30], ['Summer', 'July', 31], ['Summer', 'Aug', 31], ['Autumn', 'Sep', 30], ['Autumn', 'Oct', 31], ['Autumn', 'Nov', 30], ['Winter', 'Dec', 31]]\n"
     ]
    }
   ],
   "source": [
    "#Assignment_List Question05\n",
    "season_list=[[\"Winter\",\"Jan\",31],[\"Winter\",\"Feb\",28],[\"Spring\",\"March\",31],[\"Spring\",\"April\",30],[\"Spring\",\"May\",31],[\"Summer\",\"June\",30],[\"Summer\",\"July\",31],[\"Summer\",\"Aug\",31],[\"Autumn\",\"Sep\",30],[\"Autumn\",\"Oct\",31],[\"Autumn\",\"Nov\",30],[\"Winter\",\"Dec\",31]]\n",
    "print(season_list)"
   ]
  },
  {
   "cell_type": "code",
   "execution_count": 9,
   "id": "af8fa8ef",
   "metadata": {},
   "outputs": [
    {
     "name": "stdout",
     "output_type": "stream",
     "text": [
      "Winter\n",
      "Total number of days in Summer is: 92\n"
     ]
    }
   ],
   "source": [
    "#Assignment_List Question06\n",
    "i=0\n",
    "Total_Days_in_Season=0\n",
    "print(season_list[0][0])\n",
    "for j in season_list:\n",
    "    if season_list[i][0]==\"Summer\":\n",
    "        Total_Days_in_Season=Total_Days_in_Season+season_list[i][2]\n",
    "    i=i+1\n",
    "print(\"Total number of days in Summer is:\",Total_Days_in_Season)  "
   ]
  },
  {
   "cell_type": "code",
   "execution_count": null,
   "id": "79eec36a",
   "metadata": {},
   "outputs": [],
   "source": []
  }
 ],
 "metadata": {
  "kernelspec": {
   "display_name": "Python 3 (ipykernel)",
   "language": "python",
   "name": "python3"
  },
  "language_info": {
   "codemirror_mode": {
    "name": "ipython",
    "version": 3
   },
   "file_extension": ".py",
   "mimetype": "text/x-python",
   "name": "python",
   "nbconvert_exporter": "python",
   "pygments_lexer": "ipython3",
   "version": "3.10.4"
  }
 },
 "nbformat": 4,
 "nbformat_minor": 5
}
